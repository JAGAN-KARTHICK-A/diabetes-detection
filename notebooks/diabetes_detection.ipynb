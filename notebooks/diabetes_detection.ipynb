{
 "cells": [
  {
   "cell_type": "markdown",
   "id": "046a6d6f-dbf8-4b1a-a458-6887639241d9",
   "metadata": {},
   "source": [
    "## Download the dataset from kaggle"
   ]
  },
  {
   "cell_type": "code",
   "execution_count": null,
   "id": "49b68e95-27f0-4473-acf3-9d66295103b7",
   "metadata": {},
   "outputs": [],
   "source": [
    "import kagglehub\n",
    "path = kagglehub.dataset_download(\"iammustafatz/diabetes-prediction-dataset\")\n",
    "print(path)"
   ]
  },
  {
   "cell_type": "markdown",
   "id": "dff8d6d4-9680-4334-944e-1920d7b66bb8",
   "metadata": {},
   "source": [
    "## Importing the required libraries"
   ]
  },
  {
   "cell_type": "code",
   "execution_count": 134,
   "id": "f40a086b-5655-461c-bd84-15fe030544e5",
   "metadata": {},
   "outputs": [],
   "source": [
    "import torch\n",
    "import torch.nn as nn\n",
    "import torch.optim as optim\n",
    "from sklearn.model_selection import train_test_split\n",
    "from sklearn.preprocessing import StandardScaler\n",
    "import pandas as pd\n",
    "from sklearn.metrics import accuracy_score, precision_score, confusion_matrix, f1_score, recall_score\n",
    "import seaborn as sns\n",
    "import matplotlib.pyplot as plt"
   ]
  },
  {
   "cell_type": "markdown",
   "id": "5e616856-de9d-4315-89f2-2884e733f840",
   "metadata": {},
   "source": [
    "## Read the dataset and print the priview"
   ]
  },
  {
   "cell_type": "code",
   "execution_count": 22,
   "id": "3ecd66a3-862a-4ce9-ac9e-33fa2d7da269",
   "metadata": {},
   "outputs": [
    {
     "name": "stdout",
     "output_type": "stream",
     "text": [
      "       gender   age  hypertension  heart_disease smoking_history    bmi  \\\n",
      "0      Female  80.0             0              1           never  25.19   \n",
      "1      Female  54.0             0              0         No Info  27.32   \n",
      "2        Male  28.0             0              0           never  27.32   \n",
      "3      Female  36.0             0              0         current  23.45   \n",
      "4        Male  76.0             1              1         current  20.14   \n",
      "...       ...   ...           ...            ...             ...    ...   \n",
      "99995  Female  80.0             0              0         No Info  27.32   \n",
      "99996  Female   2.0             0              0         No Info  17.37   \n",
      "99997    Male  66.0             0              0          former  27.83   \n",
      "99998  Female  24.0             0              0           never  35.42   \n",
      "99999  Female  57.0             0              0         current  22.43   \n",
      "\n",
      "       HbA1c_level  blood_glucose_level  diabetes  \n",
      "0              6.6                  140         0  \n",
      "1              6.6                   80         0  \n",
      "2              5.7                  158         0  \n",
      "3              5.0                  155         0  \n",
      "4              4.8                  155         0  \n",
      "...            ...                  ...       ...  \n",
      "99995          6.2                   90         0  \n",
      "99996          6.5                  100         0  \n",
      "99997          5.7                  155         0  \n",
      "99998          4.0                  100         0  \n",
      "99999          6.6                   90         0  \n",
      "\n",
      "[100000 rows x 9 columns]\n"
     ]
    }
   ],
   "source": [
    "df = pd.read_csv(\"diabetes_prediction_dataset.csv\")\n",
    "\n",
    "print(df)"
   ]
  },
  {
   "cell_type": "markdown",
   "id": "0c11dab1-ae65-4bca-a226-450eb4bcce76",
   "metadata": {},
   "source": [
    "## Proccessing the data using onehot encoding to convert the categorical data such as gender and smoking_history into a numerical format "
   ]
  },
  {
   "cell_type": "code",
   "execution_count": 109,
   "id": "92e2dd77-ceac-4226-95e0-2c34ed4ca444",
   "metadata": {},
   "outputs": [
    {
     "name": "stdout",
     "output_type": "stream",
     "text": [
      "['Female' 'Male' 'Other']\n",
      "['never' 'No Info' 'current' 'former' 'ever' 'not current']\n",
      "        age  hypertension  heart_disease smoking_history    bmi  HbA1c_level  \\\n",
      "0      80.0             0              1           never  25.19          6.6   \n",
      "1      54.0             0              0         No Info  27.32          6.6   \n",
      "2      28.0             0              0           never  27.32          5.7   \n",
      "3      36.0             0              0         current  23.45          5.0   \n",
      "4      76.0             1              1         current  20.14          4.8   \n",
      "...     ...           ...            ...             ...    ...          ...   \n",
      "99995  80.0             0              0         No Info  27.32          6.2   \n",
      "99996   2.0             0              0         No Info  17.37          6.5   \n",
      "99997  66.0             0              0          former  27.83          5.7   \n",
      "99998  24.0             0              0           never  35.42          4.0   \n",
      "99999  57.0             0              0         current  22.43          6.6   \n",
      "\n",
      "       blood_glucose_level  diabetes  gender_Female  gender_Male  gender_Other  \n",
      "0                      140         0              1            0             0  \n",
      "1                       80         0              1            0             0  \n",
      "2                      158         0              0            1             0  \n",
      "3                      155         0              1            0             0  \n",
      "4                      155         0              0            1             0  \n",
      "...                    ...       ...            ...          ...           ...  \n",
      "99995                   90         0              1            0             0  \n",
      "99996                  100         0              1            0             0  \n",
      "99997                  155         0              0            1             0  \n",
      "99998                  100         0              1            0             0  \n",
      "99999                   90         0              1            0             0  \n",
      "\n",
      "[100000 rows x 11 columns]\n",
      "        age  hypertension  heart_disease    bmi  HbA1c_level  \\\n",
      "0      80.0             0              1  25.19          6.6   \n",
      "1      54.0             0              0  27.32          6.6   \n",
      "2      28.0             0              0  27.32          5.7   \n",
      "3      36.0             0              0  23.45          5.0   \n",
      "4      76.0             1              1  20.14          4.8   \n",
      "...     ...           ...            ...    ...          ...   \n",
      "99995  80.0             0              0  27.32          6.2   \n",
      "99996   2.0             0              0  17.37          6.5   \n",
      "99997  66.0             0              0  27.83          5.7   \n",
      "99998  24.0             0              0  35.42          4.0   \n",
      "99999  57.0             0              0  22.43          6.6   \n",
      "\n",
      "       blood_glucose_level  diabetes  gender_Female  gender_Male  \\\n",
      "0                      140         0              1            0   \n",
      "1                       80         0              1            0   \n",
      "2                      158         0              0            1   \n",
      "3                      155         0              1            0   \n",
      "4                      155         0              0            1   \n",
      "...                    ...       ...            ...          ...   \n",
      "99995                   90         0              1            0   \n",
      "99996                  100         0              1            0   \n",
      "99997                  155         0              0            1   \n",
      "99998                  100         0              1            0   \n",
      "99999                   90         0              1            0   \n",
      "\n",
      "       gender_Other  smoker_No Info  smoker_current  smoker_ever  \\\n",
      "0                 0               0               0            0   \n",
      "1                 0               1               0            0   \n",
      "2                 0               0               0            0   \n",
      "3                 0               0               1            0   \n",
      "4                 0               0               1            0   \n",
      "...             ...             ...             ...          ...   \n",
      "99995             0               1               0            0   \n",
      "99996             0               1               0            0   \n",
      "99997             0               0               0            0   \n",
      "99998             0               0               0            0   \n",
      "99999             0               0               1            0   \n",
      "\n",
      "       smoker_former  smoker_never  smoker_not current  \n",
      "0                  0             1                   0  \n",
      "1                  0             0                   0  \n",
      "2                  0             1                   0  \n",
      "3                  0             0                   0  \n",
      "4                  0             0                   0  \n",
      "...              ...           ...                 ...  \n",
      "99995              0             0                   0  \n",
      "99996              0             0                   0  \n",
      "99997              1             0                   0  \n",
      "99998              0             1                   0  \n",
      "99999              0             0                   0  \n",
      "\n",
      "[100000 rows x 16 columns]\n",
      "        age  hypertension  heart_disease    bmi  HbA1c_level  \\\n",
      "0      80.0             0              1  25.19          6.6   \n",
      "1      54.0             0              0  27.32          6.6   \n",
      "2      28.0             0              0  27.32          5.7   \n",
      "3      36.0             0              0  23.45          5.0   \n",
      "4      76.0             1              1  20.14          4.8   \n",
      "...     ...           ...            ...    ...          ...   \n",
      "99995  80.0             0              0  27.32          6.2   \n",
      "99996   2.0             0              0  17.37          6.5   \n",
      "99997  66.0             0              0  27.83          5.7   \n",
      "99998  24.0             0              0  35.42          4.0   \n",
      "99999  57.0             0              0  22.43          6.6   \n",
      "\n",
      "       blood_glucose_level  diabetes  gender_Female  gender_Male  \\\n",
      "0                      140         0              1            0   \n",
      "1                       80         0              1            0   \n",
      "2                      158         0              0            1   \n",
      "3                      155         0              1            0   \n",
      "4                      155         0              0            1   \n",
      "...                    ...       ...            ...          ...   \n",
      "99995                   90         0              1            0   \n",
      "99996                  100         0              1            0   \n",
      "99997                  155         0              0            1   \n",
      "99998                  100         0              1            0   \n",
      "99999                   90         0              1            0   \n",
      "\n",
      "       gender_Other  smoker_No Info  smoker_current  smoker_ever  \\\n",
      "0                 0               0               0            0   \n",
      "1                 0               1               0            0   \n",
      "2                 0               0               0            0   \n",
      "3                 0               0               1            0   \n",
      "4                 0               0               1            0   \n",
      "...             ...             ...             ...          ...   \n",
      "99995             0               1               0            0   \n",
      "99996             0               1               0            0   \n",
      "99997             0               0               0            0   \n",
      "99998             0               0               0            0   \n",
      "99999             0               0               1            0   \n",
      "\n",
      "       smoker_former  smoker_never  smoker_not current  \n",
      "0                  0             1                   0  \n",
      "1                  0             0                   0  \n",
      "2                  0             1                   0  \n",
      "3                  0             0                   0  \n",
      "4                  0             0                   0  \n",
      "...              ...           ...                 ...  \n",
      "99995              0             0                   0  \n",
      "99996              0             0                   0  \n",
      "99997              1             0                   0  \n",
      "99998              0             1                   0  \n",
      "99999              0             0                   0  \n",
      "\n",
      "[100000 rows x 16 columns]\n"
     ]
    }
   ],
   "source": [
    "print(df[\"gender\"].unique())\n",
    "\n",
    "print(df[\"smoking_history\"].unique())\n",
    "\n",
    "df_onehot_genders = pd.get_dummies(df, columns=[\"gender\"], prefix=\"gender\")\n",
    "for col in df_onehot_genders:\n",
    "    if df_onehot_genders[col].dtype == 'bool':\n",
    "        df_onehot_genders[col] = df_onehot_genders[col].astype(int)\n",
    "print(df_onehot_genders)\n",
    "\n",
    "df_onehot_smoking_history = pd.get_dummies(df_onehot_genders, columns=[\"smoking_history\"], prefix=\"smoker\")\n",
    "for col in df_onehot_smoking_history:\n",
    "    if df_onehot_smoking_history[col].dtype == 'bool':\n",
    "        df_onehot_smoking_history[col] = df_onehot_smoking_history[col].astype(int)\n",
    "print(df_onehot_smoking_history)\n",
    "\n",
    "df_final = df_onehot_smoking_history\n",
    "print(df_final)\n"
   ]
  },
  {
   "cell_type": "markdown",
   "id": "779c3742-fc7e-4af4-9c10-d01699104696",
   "metadata": {},
   "source": [
    "## Preprocessing the data using StandardScaler to normalize the features (input)"
   ]
  },
  {
   "cell_type": "code",
   "execution_count": 66,
   "id": "6cbb221d-28a2-4185-b1ce-40c7370f0b10",
   "metadata": {},
   "outputs": [],
   "source": [
    "x = df_final[[\"age\", \"hypertension\", \"heart_disease\", \"bmi\", \"HbA1c_level\", \"blood_glucose_level\", \"gender_Female\", \"gender_Male\", \"gender_Other\", \"smoker_No Info\", \"smoker_current\", \"smoker_ever\", \"smoker_former\", \"smoker_never\", \"smoker_not current\"]].values\n",
    "y = df_final[[\"diabetes\"]].values\n",
    "\n",
    "x_train, x_test, y_train, y_test = train_test_split(x, y, test_size=0.2, random_state=42)\n",
    "\n",
    "scaler = StandardScaler()\n",
    "x_train = scaler.fit_transform(x_train)\n",
    "x_test = scaler.transform(x_test)\n",
    "\n",
    "x_train = torch.tensor(x_train, dtype=torch.float32)\n",
    "x_test = torch.tensor(x_test, dtype=torch.float32)\n",
    "y_train = torch.tensor(y_train, dtype=torch.float32).view(-1, 1)\n",
    "y_test = torch.tensor(y_test, dtype=torch.float32).view(-1, 1)\n",
    "\n",
    "#print(y_train)\n"
   ]
  },
  {
   "cell_type": "markdown",
   "id": "b9f22c74-aef4-4b05-8bc3-7fe8c46e8035",
   "metadata": {},
   "source": [
    "## Defining the model"
   ]
  },
  {
   "cell_type": "code",
   "execution_count": 142,
   "id": "b4b60b10-48ba-49f5-8924-b38608546ee1",
   "metadata": {},
   "outputs": [],
   "source": [
    "class DiabetesModel(nn.Module):\n",
    "    def __init__(self):\n",
    "        super(DiabetesModel, self).__init__()\n",
    "        #Layers\n",
    "        self.l1 = nn.Linear(15, 128)\n",
    "        self.l2 = nn.Linear(128, 256)\n",
    "        self.l3 = nn.Linear(256, 128)\n",
    "        self.l4 = nn.Linear(128, 64)\n",
    "        self.l5 = nn.Linear(64, 1)\n",
    "        #batch normalization Layer\n",
    "        self.bn1 = nn.BatchNorm1d(128)\n",
    "        self.bn2 = nn.BatchNorm1d(256)\n",
    "        self.bn3 = nn.BatchNorm1d(128)\n",
    "        self.bn4 = nn.BatchNorm1d(64)\n",
    "        #Dropout Layer\n",
    "        self.dropout = nn.Dropout(p=0.5)\n",
    "\n",
    "    def forward(self, x):\n",
    "        # Applying Linear, Batch normalization, ReLU, and Dropout for each layer\n",
    "        x = torch.relu(self.bn1(self.l1(x)))\n",
    "        x = self.dropout(x)\n",
    "        \n",
    "        x = torch.relu(self.bn2(self.l2(x)))\n",
    "        x = self.dropout(x)\n",
    "\n",
    "        x = torch.relu(self.bn3(self.l3(x)))\n",
    "        x = self.dropout(x)\n",
    "\n",
    "        x = torch.relu(self.bn4(self.l4(x)))\n",
    "        x = self.dropout(x)\n",
    "        \n",
    "        # Output layer (NOTE : we do not use sigmoid activation function here as we use BCEWithLogitsLoss as loss function which takes care of sigmoid)\n",
    "        x = self.l5(x)\n",
    "        return x\n"
   ]
  },
  {
   "cell_type": "markdown",
   "id": "ca831939-18dc-4cf9-906d-5b90127b8c54",
   "metadata": {},
   "source": [
    "## Training the model with BCEWithLogitsLoss as loss function and Adam optimizer with a 1000 epochs"
   ]
  },
  {
   "cell_type": "code",
   "execution_count": 143,
   "id": "6f64b66f-f366-48d8-81b6-553800c4d1ae",
   "metadata": {},
   "outputs": [
    {
     "name": "stdout",
     "output_type": "stream",
     "text": [
      "Epoch : [100/1000], Loss : 0.1954\n",
      "Epoch : [200/1000], Loss : 0.1392\n",
      "Epoch : [300/1000], Loss : 0.1196\n",
      "Epoch : [400/1000], Loss : 0.1090\n",
      "Epoch : [500/1000], Loss : 0.1012\n",
      "Epoch : [600/1000], Loss : 0.0965\n",
      "Epoch : [700/1000], Loss : 0.0928\n",
      "Epoch : [800/1000], Loss : 0.0905\n",
      "Epoch : [900/1000], Loss : 0.0885\n",
      "Epoch : [1000/1000], Loss : 0.0871\n"
     ]
    }
   ],
   "source": [
    "model = DiabetesModel()\n",
    "loss_function = nn.BCEWithLogitsLoss()\n",
    "optimizer = optim.Adam(model.parameters(), lr=0.001)\n",
    "\n",
    "epochs = 1000\n",
    "for epoch in range(epochs):\n",
    "    predictions = model(x_train)\n",
    "    loss = loss_function(predictions, y_train)\n",
    "    optimizer.zero_grad()\n",
    "    loss.backward()\n",
    "    optimizer.step()\n",
    "\n",
    "    if (epoch+1) % 100 == 0:\n",
    "        print(f\"Epoch : [{epoch+1}/{epochs}], Loss : {loss.item():.4f}\")\n",
    "    "
   ]
  },
  {
   "cell_type": "markdown",
   "id": "00ddbb03-6886-4cfb-b269-3f4fc077402e",
   "metadata": {},
   "source": [
    "## Setting the model to evaluation mode and making predictions and printing the acutual and predicted values and also calculating the accuracy and precision of the model and saving the results"
   ]
  },
  {
   "cell_type": "code",
   "execution_count": 144,
   "id": "694e7809-5752-478d-9d59-86cb108a09b2",
   "metadata": {},
   "outputs": [
    {
     "name": "stdout",
     "output_type": "stream",
     "text": [
      "Actual: [0. 0. 0. ... 0. 0. 0.]\n",
      "Predicted: [0. 0. 0. ... 0. 0. 0.]\n",
      "Accuracy: 0.972\n",
      "Precision: 1.000\n",
      "Recall: 0.673\n",
      "F1-score: 0.805\n"
     ]
    }
   ],
   "source": [
    "model.eval()\n",
    "with torch.no_grad():\n",
    "    predictions = model(x_test)\n",
    "    predicted_classes = (torch.sigmoid(predictions) > 0.5).float()\n",
    "\n",
    "actual = y_test.view(-1).numpy()\n",
    "predicted = predicted_classes.view(-1).numpy()\n",
    "accuracy = accuracy_score(actual, predicted)\n",
    "precision = precision_score(actual, predicted, pos_label=1)\n",
    "recall = recall_score(actual, predicted)\n",
    "f1 = f1_score(actual, predicted)\n",
    "\n",
    "print(\"Actual:\", actual)\n",
    "print(\"Predicted:\", predicted)\n",
    "print(f\"Accuracy: {accuracy:.3f}\")\n",
    "print(f\"Precision: {precision:.3f}\")\n",
    "print(f\"Recall: {recall:.3f}\")\n",
    "print(f\"F1-score: {f1:.3f}\")\n",
    "\n",
    "df_save = pd.DataFrame({\n",
    "    \"actual\": actual,\n",
    "    \"predicted\": predicted\n",
    "})\n",
    "\n",
    "df_save.to_csv('output_diabetes.csv', index=False)"
   ]
  },
  {
   "cell_type": "code",
   "execution_count": 145,
   "id": "592f5e69-bb7c-4b97-bcf0-4a06e7e8b2b0",
   "metadata": {},
   "outputs": [],
   "source": [
    "torch.save(model, 'diabetedModel.pth')"
   ]
  },
  {
   "cell_type": "code",
   "execution_count": 146,
   "id": "a1bd8d55-e21b-44e0-9f6c-9e282c516435",
   "metadata": {},
   "outputs": [],
   "source": [
    "torch.save(model.state_dict(), 'diabetedModelStateDict.pth')"
   ]
  },
  {
   "cell_type": "markdown",
   "id": "f8fe03ed-5600-4267-905b-defc3de391d6",
   "metadata": {},
   "source": [
    "## Confusion Matrix (top-left : The number of non-diabetic cases correctly predicted as non-diabetic), (Top-right : The number of non-diabetic cases incorrectly predicted as diabetic), (Bottom-left : The number of diabetic cases incorrectly predicted as non-diabetic), (Bottom-right : The number of diabetic cases correctly predicted as diabetic)"
   ]
  },
  {
   "cell_type": "code",
   "execution_count": 147,
   "id": "d3f1ea6e-21c4-481d-9631-215a1ab9683e",
   "metadata": {},
   "outputs": [
    {
     "data": {
      "image/png": "[encoded data removed]",
      "text/plain": [
       "<Figure size 640x480 with 2 Axes>"
      ]
     },
     "metadata": {},
     "output_type": "display_data"
    }
   ],
   "source": [
    "cm = confusion_matrix(y_test, predicted_classes)\n",
    "sns.heatmap(cm, annot=True, fmt='d', cmap='Blues', xticklabels=['Negative', 'Positive'], yticklabels=['Negative', 'Positive'])\n",
    "plt.title('Confusion Matrix')\n",
    "plt.xlabel('Predicted Label')\n",
    "plt.ylabel('True Label')\n",
    "plt.show()"
   ]
  },
  {
   "cell_type": "markdown",
   "id": "849e55e9-1f9c-4eec-82a2-82d861d1645b",
   "metadata": {},
   "source": [
    "## The ROC Curve shows how well the model can tell the difference between diabetic and non-diabetic cases at various decision points, helping us understand its overall accuracy."
   ]
  },
  {
   "cell_type": "code",
   "execution_count": 148,
   "id": "17985646-32e9-43be-8087-50b75a468cee",
   "metadata": {},
   "outputs": [
    {
     "data": {
      "image/png": "[encoded data removed]",
      "text/plain": [
       "<Figure size 640x480 with 1 Axes>"
      ]
     },
     "metadata": {},
     "output_type": "display_data"
    }
   ],
   "source": [
    "from sklearn.metrics import roc_curve, auc\n",
    "\n",
    "fpr, tpr, _ = roc_curve(y_test, predicted_classes)\n",
    "roc_auc = auc(fpr, tpr)\n",
    "\n",
    "plt.plot(fpr, tpr, color='darkorange', lw=2, label='ROC curve (area = %0.2f)' % roc_auc)\n",
    "plt.plot([0, 1], [0, 1], color='navy', lw=2, linestyle='--')\n",
    "plt.xlim([0.0, 1.0])\n",
    "plt.ylim([0.0, 1.05])\n",
    "plt.xlabel('False Positive Rate')\n",
    "plt.ylabel('True Positive Rate')\n",
    "plt.title('Receiver Operating Characteristic')\n",
    "plt.legend(loc=\"lower right\")\n",
    "plt.show()\n"
   ]
  }
 ],
 "metadata": {
  "kernelspec": {
   "display_name": ".venv-aiml-l1",
   "language": "python",
   "name": ".venv-aiml-l1"
  },
  "language_info": {
   "codemirror_mode": {
    "name": "ipython",
    "version": 3
   },
   "file_extension": ".py",
   "mimetype": "text/x-python",
   "name": "python",
   "nbconvert_exporter": "python",
   "pygments_lexer": "ipython3",
   "version": "3.9.13"
  }
 },
 "nbformat": 4,
 "nbformat_minor": 5
}
